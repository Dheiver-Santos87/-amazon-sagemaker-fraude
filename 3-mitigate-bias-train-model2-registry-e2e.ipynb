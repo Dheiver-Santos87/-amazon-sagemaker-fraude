{
 "cells": [
  {
   "cell_type": "markdown",
   "metadata": {},
   "source": [
    "# Detecção de Fraude em contratos de seguros: Mitigar  Bias, Treinar, Registrar, e Deploy do modelo"
   ]
  },
  {
   "cell_type": "markdown",
   "metadata": {},
   "source": [
    "## Background\n",
    "\n",
    "Este notebook é a segunda parte de uma série de notebooks que demonstrarão como preparar, treinar e implantar um modelo que detecta reclamações automáticas fraudulentas. Neste notebook, estaremos preparando, processando e armazenando recursos usando o SageMaker Feature Store. Você pode optar por executar este notebook sozinho ou em sequência com os outros notebooks listados abaixo. Consulte o [README.md](README.md) para obter mais informações sobre este caso de uso implementado por esta série de notebooks.\n",
    "\n",
    "1. **[Detecção de Fraude em contratos de seguros: exploração de dados](./0-AutoClaimFraudDetection.ipynb)**\n",
    "1. [Detecção de Fraude em contratos de seguros: preparação de dados, processo e recursos de armazenamento](./1-data-prep-e2e.ipynb)\n",
    "1. [Detecção de Fraude em contratos de seguros: treinar, verificar viés, ajustar, registrar linhagem e registrar um modelo](./2-lineage-train-assess-bias-tune-registry-e2e.ipynb)\n",
    "1. [Detecção de Fraude em contratos de seguros: mitigar, treinar, registrar e implantar modelo imparcial](./3-mitigate-bias-train-model2-registry-e2e.ipynb)\n",
    "\n",
    "\n",
    "## Conteúdo\n",
    "1. [Arquitetura para preparação de dados, recursos e armazenamento](#Arquitetura para preparação de dados, recursos de processo e armazenamento)\n",
    "1. [Introdução: Criando recursos](#Getting-Started:-Creating-Resources)\n",
    "1. [Conjuntos de dados e tipos de recursos](#Datasets-and-Feature-Types)\n",
    "1. [SageMaker Feature Store](#SageMaker-Feature-Store)\n",
    "1. [Criar conjuntos de dados de treinamento e teste](#Create-Train-and-Test-Datasets)"
   ]
  },
  {
   "cell_type": "markdown",
   "metadata": {},
   "source": [
    "### Instale as bibliotecas de terceiros necessárias e/ou atualize"
   ]
  },
  {
   "cell_type": "code",
   "execution_count": 2,
   "metadata": {},
   "outputs": [
    {
     "name": "stdout",
     "output_type": "stream",
     "text": [
      "\u001b[33mWARNING: Running pip as the 'root' user can result in broken permissions and conflicting behaviour with the system package manager. It is recommended to use a virtual environment instead: https://pip.pypa.io/warnings/venv\u001b[0m\u001b[33m\n",
      "\u001b[0m\u001b[33mWARNING: Running pip as the 'root' user can result in broken permissions and conflicting behaviour with the system package manager. It is recommended to use a virtual environment instead: https://pip.pypa.io/warnings/venv\u001b[0m\u001b[33m\n",
      "\u001b[0m"
     ]
    }
   ],
   "source": [
    "!python -m pip install -Uq pip\n",
    "!python -m pip install -q awswrangler==2.2.0 imbalanced-learn==0.7.0 sagemaker==2.23.0 boto3==1.17.70"
   ]
  },
  {
   "cell_type": "markdown",
   "metadata": {},
   "source": [
    "### Importar Bibliotecas"
   ]
  },
  {
   "cell_type": "code",
   "execution_count": 3,
   "metadata": {},
   "outputs": [],
   "source": [
    "import json\n",
    "import time\n",
    "import boto3\n",
    "import sagemaker\n",
    "import numpy as np\n",
    "import pandas as pd\n",
    "import awswrangler as wr\n",
    "import matplotlib.pyplot as plt\n",
    "from imblearn.over_sampling import SMOTE\n",
    "from sagemaker.xgboost.estimator import XGBoost\n",
    "\n",
    "from model_package_src.inference_specification import InferenceSpecification\n",
    "\n",
    "%matplotlib inline"
   ]
  },
  {
   "cell_type": "markdown",
   "metadata": {},
   "source": [
    "### Selecione a região, boto3 e SageMaker SDK "
   ]
  },
  {
   "cell_type": "code",
   "execution_count": 4,
   "metadata": {},
   "outputs": [
    {
     "name": "stdout",
     "output_type": "stream",
     "text": [
      "Using AWS Region: us-east-1\n"
     ]
    }
   ],
   "source": [
    "# You can change this to a region of your choice\n",
    "import sagemaker\n",
    "\n",
    "region = sagemaker.Session().boto_region_name\n",
    "print(\"Using AWS Region: {}\".format(region))"
   ]
  },
  {
   "cell_type": "code",
   "execution_count": 5,
   "metadata": {},
   "outputs": [],
   "source": [
    "boto3.setup_default_session(region_name=region)\n",
    "\n",
    "boto_session = boto3.Session(region_name=region)\n",
    "\n",
    "s3_client = boto3.client(\"s3\", region_name=region)\n",
    "\n",
    "sagemaker_boto_client = boto_session.client(\"sagemaker\")\n",
    "\n",
    "sagemaker_session = sagemaker.Session(\n",
    "    boto_session=boto_session, sagemaker_client=sagemaker_boto_client\n",
    ")\n",
    "\n",
    "sagemaker_role = sagemaker.get_execution_role()\n",
    "\n",
    "account_id = boto3.client(\"sts\").get_caller_identity()[\"Account\"]"
   ]
  },
  {
   "cell_type": "code",
   "execution_count": 6,
   "metadata": {},
   "outputs": [],
   "source": [
    "# variables used for parameterizing the notebook run\n",
    "bucket = sagemaker_session.default_bucket()\n",
    "prefix = \"fraud-detect-demo\"\n",
    "\n",
    "claims_fg_name = f\"{prefix}-claims\"\n",
    "customers_fg_name = f\"{prefix}-customers\"\n",
    "\n",
    "model_2_name = f\"{prefix}-xgboost-post-smote\"\n",
    "\n",
    "train_data_upsampled_s3_path = f\"s3://{bucket}/{prefix}/data/train/upsampled/train.csv\"\n",
    "bias_report_2_output_path = f\"s3://{bucket}/{prefix}/clarify-output/bias-2\"\n",
    "explainability_output_path = f\"s3://{bucket}/{prefix}/clarify-output/explainability\"\n",
    "\n",
    "train_instance_count = 1\n",
    "train_instance_type = \"ml.m4.xlarge\"\n",
    "\n",
    "claify_instance_count = 1\n",
    "clairfy_instance_type = \"ml.c5.xlarge\""
   ]
  },
  {
   "cell_type": "markdown",
   "metadata": {},
   "source": [
    "## Arquitetura: Treinar, Verificar Bias, otimizar parâmetros, registrar linhagem, registrar o modelo\n",
    "----\n",
    "\n",
    "![train-assess-tune-register](./images/e2e-2-pipeline-v3b.png)"
   ]
  },
  {
   "cell_type": "markdown",
   "metadata": {},
   "source": [
    "## Desenvolva um modelo imparcial (sem viés)\n",
    "----\n",
    "\n",
    "Neste segundo modelo, você corrigirá o desequilíbrio de gênero no conjunto de dados usando SMOTE e treinará outro modelo usando XGBoost. Esse modelo também será salvo em nosso registro e, eventualmente, aprovado para implantação."
   ]
  },
  {
   "cell_type": "code",
   "execution_count": 7,
   "metadata": {},
   "outputs": [],
   "source": [
    "train = pd.read_csv(\"data/train.csv\")\n",
    "test = pd.read_csv(\"data/test.csv\")"
   ]
  },
  {
   "cell_type": "markdown",
   "metadata": {},
   "source": [
    "<a id='smote'></a>\n",
    "\n",
    "### Resolva o desequilíbrio de classe usando SMOTE\n",
    "\n",
    "Para lidar com o desequilíbrio, podemos fazer uma sobreamostragem (ou seja, aumentar a amostra) da classe minoritária usando [SMOTE (Synthetic Minority Over-sampling Technique)](https://arxiv.org/pdf/1106.1813.pdf). Depois de instalar o módulo de aprendizado desbalanceado, se você receber um ImportError ao importar o SMOTE, tente reiniciar o kernel."
   ]
  },
  {
   "cell_type": "markdown",
   "metadata": {},
   "source": [
    "#### Equilíbrio de gênero antes do SMOTE"
   ]
  },
  {
   "cell_type": "code",
   "execution_count": 8,
   "metadata": {},
   "outputs": [
    {
     "data": {
      "text/plain": [
       "0    2782\n",
       "1    1218\n",
       "Name: customer_gender_female, dtype: int64"
      ]
     },
     "execution_count": 8,
     "metadata": {},
     "output_type": "execute_result"
    }
   ],
   "source": [
    "gender = train[\"customer_gender_female\"]\n",
    "gender.value_counts()"
   ]
  },
  {
   "cell_type": "markdown",
   "metadata": {},
   "source": [
    "#### Equilíbrio de gênero após SMOTE"
   ]
  },
  {
   "cell_type": "code",
   "execution_count": 9,
   "metadata": {},
   "outputs": [
    {
     "data": {
      "text/plain": [
       "1    2782\n",
       "0    2782\n",
       "Name: customer_gender_female, dtype: int64"
      ]
     },
     "execution_count": 9,
     "metadata": {},
     "output_type": "execute_result"
    }
   ],
   "source": [
    "sm = SMOTE(random_state=42)\n",
    "train_data_upsampled, gender_res = sm.fit_resample(train, gender)\n",
    "train_data_upsampled[\"customer_gender_female\"].value_counts()"
   ]
  },
  {
   "cell_type": "markdown",
   "metadata": {},
   "source": [
    "### Defina os hiperparâmetros\n",
    "Estes são os parâmetros que serão enviados ao nosso script de treinamento para treinar o modelo. Embora todos sejam definidos como \"hiperparâmetros\" aqui, eles podem abranger os [Parâmetros da tarefa de aprendizado](https://xgboost.readthedocs.io/en/latest/parameter.html#learning-task-parameters) do XGBoost, [Parâmetros do impulsionador da árvore ](https://xgboost.readthedocs.io/en/latest/parameter.html#parameters-for-tree-booster) ou qualquer outro parâmetro que você queira configurar para o XGBoost."
   ]
  },
  {
   "cell_type": "code",
   "execution_count": 10,
   "metadata": {},
   "outputs": [],
   "source": [
    "hyperparameters = {\n",
    "    \"max_depth\": \"3\",\n",
    "    \"eta\": \"0.2\",\n",
    "    \"objective\": \"binary:logistic\",\n",
    "    \"num_round\": \"100\",\n",
    "}"
   ]
  },
  {
   "cell_type": "markdown",
   "metadata": {},
   "source": [
    "### Treine o novo Modelo\n"
   ]
  },
  {
   "cell_type": "code",
   "execution_count": 11,
   "metadata": {},
   "outputs": [],
   "source": [
    "train_data_upsampled.to_csv(\"data/upsampled_train.csv\", index=False)\n",
    "s3_client.upload_file(\n",
    "    Filename=\"data/upsampled_train.csv\",\n",
    "    Bucket=bucket,\n",
    "    Key=f\"{prefix}/data/train/upsampled/train.csv\",\n",
    ")"
   ]
  },
  {
   "cell_type": "code",
   "execution_count": 12,
   "metadata": {},
   "outputs": [],
   "source": [
    "xgb_estimator = XGBoost(\n",
    "    entry_point=\"xgboost_starter_script.py\",\n",
    "    hyperparameters=hyperparameters,\n",
    "    role=sagemaker_role,\n",
    "    instance_count=train_instance_count,\n",
    "    instance_type=train_instance_type,\n",
    "    framework_version=\"1.0-1\",\n",
    ")"
   ]
  },
  {
   "cell_type": "code",
   "execution_count": 13,
   "metadata": {
    "scrolled": true
   },
   "outputs": [
    {
     "name": "stdout",
     "output_type": "stream",
     "text": [
      "2022-08-28 11:28:27 Starting - Starting the training job...\n",
      "2022-08-28 11:28:53 Starting - Preparing the instances for trainingProfilerReport-1661686107: InProgress\n",
      ".........\n",
      "2022-08-28 11:30:14 Downloading - Downloading input data...\n",
      "2022-08-28 11:30:54 Training - Downloading the training image......\n",
      "2022-08-28 11:31:51 Training - Training image download completed. Training in progress..\u001b[34mINFO:sagemaker-containers:Imported framework sagemaker_xgboost_container.training\u001b[0m\n",
      "\u001b[34mINFO:sagemaker-containers:No GPUs detected (normal if no gpus installed)\u001b[0m\n",
      "\u001b[34mINFO:sagemaker_xgboost_container.training:Invoking user training script.\u001b[0m\n",
      "\u001b[34mINFO:sagemaker-containers:Module xgboost_starter_script does not provide a setup.py. \u001b[0m\n",
      "\u001b[34mGenerating setup.py\u001b[0m\n",
      "\u001b[34mINFO:sagemaker-containers:Generating setup.cfg\u001b[0m\n",
      "\u001b[34mINFO:sagemaker-containers:Generating MANIFEST.in\u001b[0m\n",
      "\u001b[34mINFO:sagemaker-containers:Installing module with the following command:\u001b[0m\n",
      "\u001b[34m/miniconda3/bin/python3 -m pip install . \u001b[0m\n",
      "\u001b[34mProcessing /opt/ml/code\u001b[0m\n",
      "\u001b[34mBuilding wheels for collected packages: xgboost-starter-script\n",
      "  Building wheel for xgboost-starter-script (setup.py): started\n",
      "  Building wheel for xgboost-starter-script (setup.py): finished with status 'done'\n",
      "  Created wheel for xgboost-starter-script: filename=xgboost_starter_script-1.0.0-py2.py3-none-any.whl size=5009 sha256=e931748a1b8f45eb5240865518c9305eb512e638b0035948b32bb170e86f3199\n",
      "  Stored in directory: /home/model-server/tmp/pip-ephem-wheel-cache-41vxm81o/wheels/95/c1/85/65aaf48b35aba88c6e896d2fd04a4b69f1cee0d81ea32993ca\u001b[0m\n",
      "\u001b[34mSuccessfully built xgboost-starter-script\u001b[0m\n",
      "\u001b[34mInstalling collected packages: xgboost-starter-script\u001b[0m\n",
      "\u001b[34mSuccessfully installed xgboost-starter-script-1.0.0\u001b[0m\n",
      "\u001b[34mINFO:sagemaker-containers:No GPUs detected (normal if no gpus installed)\u001b[0m\n",
      "\u001b[34mINFO:sagemaker-containers:Invoking user script\u001b[0m\n",
      "\u001b[34mTraining Env:\u001b[0m\n",
      "\u001b[34m{\n",
      "    \"additional_framework_parameters\": {},\n",
      "    \"channel_input_dirs\": {\n",
      "        \"train\": \"/opt/ml/input/data/train\"\n",
      "    },\n",
      "    \"current_host\": \"algo-1\",\n",
      "    \"framework_module\": \"sagemaker_xgboost_container.training:main\",\n",
      "    \"hosts\": [\n",
      "        \"algo-1\"\n",
      "    ],\n",
      "    \"hyperparameters\": {\n",
      "        \"eta\": \"0.2\",\n",
      "        \"max_depth\": \"3\",\n",
      "        \"num_round\": \"100\",\n",
      "        \"objective\": \"binary:logistic\"\n",
      "    },\n",
      "    \"input_config_dir\": \"/opt/ml/input/config\",\n",
      "    \"input_data_config\": {\n",
      "        \"train\": {\n",
      "            \"TrainingInputMode\": \"File\",\n",
      "            \"S3DistributionType\": \"FullyReplicated\",\n",
      "            \"RecordWrapperType\": \"None\"\n",
      "        }\n",
      "    },\n",
      "    \"input_dir\": \"/opt/ml/input\",\n",
      "    \"is_master\": true,\n",
      "    \"job_name\": \"sagemaker-xgboost-2022-08-28-11-28-27-693\",\n",
      "    \"log_level\": 20,\n",
      "    \"master_hostname\": \"algo-1\",\n",
      "    \"model_dir\": \"/opt/ml/model\",\n",
      "    \"module_dir\": \"s3://sagemaker-us-east-1-173965381620/sagemaker-xgboost-2022-08-28-11-28-27-693/source/sourcedir.tar.gz\",\n",
      "    \"module_name\": \"xgboost_starter_script\",\n",
      "    \"network_interface_name\": \"eth0\",\n",
      "    \"num_cpus\": 4,\n",
      "    \"num_gpus\": 0,\n",
      "    \"output_data_dir\": \"/opt/ml/output/data\",\n",
      "    \"output_dir\": \"/opt/ml/output\",\n",
      "    \"output_intermediate_dir\": \"/opt/ml/output/intermediate\",\n",
      "    \"resource_config\": {\n",
      "        \"current_host\": \"algo-1\",\n",
      "        \"current_instance_type\": \"ml.m4.xlarge\",\n",
      "        \"current_group_name\": \"homogeneousCluster\",\n",
      "        \"hosts\": [\n",
      "            \"algo-1\"\n",
      "        ],\n",
      "        \"instance_groups\": [\n",
      "            {\n",
      "                \"instance_group_name\": \"homogeneousCluster\",\n",
      "                \"instance_type\": \"ml.m4.xlarge\",\n",
      "                \"hosts\": [\n",
      "                    \"algo-1\"\n",
      "                ]\n",
      "            }\n",
      "        ],\n",
      "        \"network_interface_name\": \"eth0\"\n",
      "    },\n",
      "    \"user_entry_point\": \"xgboost_starter_script.py\"\u001b[0m\n",
      "\u001b[34m}\u001b[0m\n",
      "\u001b[34mEnvironment variables:\u001b[0m\n",
      "\u001b[34mSM_HOSTS=[\"algo-1\"]\u001b[0m\n",
      "\u001b[34mSM_NETWORK_INTERFACE_NAME=eth0\u001b[0m\n",
      "\u001b[34mSM_HPS={\"eta\":\"0.2\",\"max_depth\":\"3\",\"num_round\":\"100\",\"objective\":\"binary:logistic\"}\u001b[0m\n",
      "\u001b[34mSM_USER_ENTRY_POINT=xgboost_starter_script.py\u001b[0m\n",
      "\u001b[34mSM_FRAMEWORK_PARAMS={}\u001b[0m\n",
      "\u001b[34mSM_RESOURCE_CONFIG={\"current_group_name\":\"homogeneousCluster\",\"current_host\":\"algo-1\",\"current_instance_type\":\"ml.m4.xlarge\",\"hosts\":[\"algo-1\"],\"instance_groups\":[{\"hosts\":[\"algo-1\"],\"instance_group_name\":\"homogeneousCluster\",\"instance_type\":\"ml.m4.xlarge\"}],\"network_interface_name\":\"eth0\"}\u001b[0m\n",
      "\u001b[34mSM_INPUT_DATA_CONFIG={\"train\":{\"RecordWrapperType\":\"None\",\"S3DistributionType\":\"FullyReplicated\",\"TrainingInputMode\":\"File\"}}\u001b[0m\n",
      "\u001b[34mSM_OUTPUT_DATA_DIR=/opt/ml/output/data\u001b[0m\n",
      "\u001b[34mSM_CHANNELS=[\"train\"]\u001b[0m\n",
      "\u001b[34mSM_CURRENT_HOST=algo-1\u001b[0m\n",
      "\u001b[34mSM_MODULE_NAME=xgboost_starter_script\u001b[0m\n",
      "\u001b[34mSM_LOG_LEVEL=20\u001b[0m\n",
      "\u001b[34mSM_FRAMEWORK_MODULE=sagemaker_xgboost_container.training:main\u001b[0m\n",
      "\u001b[34mSM_INPUT_DIR=/opt/ml/input\u001b[0m\n",
      "\u001b[34mSM_INPUT_CONFIG_DIR=/opt/ml/input/config\u001b[0m\n",
      "\u001b[34mSM_OUTPUT_DIR=/opt/ml/output\u001b[0m\n",
      "\u001b[34mSM_NUM_CPUS=4\u001b[0m\n",
      "\u001b[34mSM_NUM_GPUS=0\u001b[0m\n",
      "\u001b[34mSM_MODEL_DIR=/opt/ml/model\u001b[0m\n",
      "\u001b[34mSM_MODULE_DIR=s3://sagemaker-us-east-1-173965381620/sagemaker-xgboost-2022-08-28-11-28-27-693/source/sourcedir.tar.gz\u001b[0m\n",
      "\u001b[34mSM_TRAINING_ENV={\"additional_framework_parameters\":{},\"channel_input_dirs\":{\"train\":\"/opt/ml/input/data/train\"},\"current_host\":\"algo-1\",\"framework_module\":\"sagemaker_xgboost_container.training:main\",\"hosts\":[\"algo-1\"],\"hyperparameters\":{\"eta\":\"0.2\",\"max_depth\":\"3\",\"num_round\":\"100\",\"objective\":\"binary:logistic\"},\"input_config_dir\":\"/opt/ml/input/config\",\"input_data_config\":{\"train\":{\"RecordWrapperType\":\"None\",\"S3DistributionType\":\"FullyReplicated\",\"TrainingInputMode\":\"File\"}},\"input_dir\":\"/opt/ml/input\",\"is_master\":true,\"job_name\":\"sagemaker-xgboost-2022-08-28-11-28-27-693\",\"log_level\":20,\"master_hostname\":\"algo-1\",\"model_dir\":\"/opt/ml/model\",\"module_dir\":\"s3://sagemaker-us-east-1-173965381620/sagemaker-xgboost-2022-08-28-11-28-27-693/source/sourcedir.tar.gz\",\"module_name\":\"xgboost_starter_script\",\"network_interface_name\":\"eth0\",\"num_cpus\":4,\"num_gpus\":0,\"output_data_dir\":\"/opt/ml/output/data\",\"output_dir\":\"/opt/ml/output\",\"output_intermediate_dir\":\"/opt/ml/output/intermediate\",\"resource_config\":{\"current_group_name\":\"homogeneousCluster\",\"current_host\":\"algo-1\",\"current_instance_type\":\"ml.m4.xlarge\",\"hosts\":[\"algo-1\"],\"instance_groups\":[{\"hosts\":[\"algo-1\"],\"instance_group_name\":\"homogeneousCluster\",\"instance_type\":\"ml.m4.xlarge\"}],\"network_interface_name\":\"eth0\"},\"user_entry_point\":\"xgboost_starter_script.py\"}\u001b[0m\n",
      "\u001b[34mSM_USER_ARGS=[\"--eta\",\"0.2\",\"--max_depth\",\"3\",\"--num_round\",\"100\",\"--objective\",\"binary:logistic\"]\u001b[0m\n",
      "\u001b[34mSM_OUTPUT_INTERMEDIATE_DIR=/opt/ml/output/intermediate\u001b[0m\n",
      "\u001b[34mSM_CHANNEL_TRAIN=/opt/ml/input/data/train\u001b[0m\n",
      "\u001b[34mSM_HP_ETA=0.2\u001b[0m\n",
      "\u001b[34mSM_HP_MAX_DEPTH=3\u001b[0m\n",
      "\u001b[34mSM_HP_NUM_ROUND=100\u001b[0m\n",
      "\u001b[34mSM_HP_OBJECTIVE=binary:logistic\u001b[0m\n",
      "\u001b[34mPYTHONPATH=/miniconda3/bin:/:/miniconda3/lib/python3.6/site-packages/xgboost/dmlc-core/tracker:/miniconda3/lib/python36.zip:/miniconda3/lib/python3.6:/miniconda3/lib/python3.6/lib-dynload:/miniconda3/lib/python3.6/site-packages\u001b[0m\n",
      "\u001b[34mInvoking script with the following command:\u001b[0m\n",
      "\u001b[34m/miniconda3/bin/python3 -m xgboost_starter_script --eta 0.2 --max_depth 3 --num_round 100 --objective binary:logistic\u001b[0m\n",
      "\u001b[34m[0]#011train-auc:0.9208850000000002\u001b[0m\n",
      "\u001b[34m[1]#011validation-auc:0.8560384000000001\u001b[0m\n",
      "\n",
      "2022-08-28 11:32:22 Uploading - Uploading generated training model\n",
      "2022-08-28 11:32:22 Completed - Training job completed\n",
      "Training seconds: 128\n",
      "Billable seconds: 128\n"
     ]
    }
   ],
   "source": [
    "if \"training_job_2_name\" not in locals():\n",
    "\n",
    "    xgb_estimator.fit(inputs={\"train\": train_data_upsampled_s3_path})\n",
    "    training_job_2_name = xgb_estimator.latest_training_job.job_name\n",
    "\n",
    "else:\n",
    "\n",
    "    print(f\"Using previous training job: {training_job_2_name}\")"
   ]
  },
  {
   "cell_type": "markdown",
   "metadata": {},
   "source": [
    "### Registre os Artefatos"
   ]
  },
  {
   "cell_type": "code",
   "execution_count": 14,
   "metadata": {},
   "outputs": [],
   "source": [
    "training_job_2_info = sagemaker_boto_client.describe_training_job(\n",
    "    TrainingJobName=training_job_2_name\n",
    ")"
   ]
  },
  {
   "cell_type": "code",
   "execution_count": 15,
   "metadata": {},
   "outputs": [
    {
     "name": "stdout",
     "output_type": "stream",
     "text": [
      "Create artifact arn:aws:sagemaker:us-east-1:173965381620:artifact/b83a3c5dba77e73b41cea6824332d503: SUCCESSFUL\n"
     ]
    }
   ],
   "source": [
    "# return any existing artifact which match the our training job's code arn\n",
    "code_s3_uri = training_job_2_info[\"HyperParameters\"][\"sagemaker_submit_directory\"]\n",
    "\n",
    "list_response = list(\n",
    "    sagemaker.lineage.artifact.Artifact.list(\n",
    "        source_uri=code_s3_uri, sagemaker_session=sagemaker_session\n",
    "    )\n",
    ")\n",
    "\n",
    "# use existing arifact if it's already been created, otherwise create a new artifact\n",
    "if list_response:\n",
    "    code_artifact = list_response[0]\n",
    "    print(f\"Using existing artifact: {code_artifact.artifact_arn}\")\n",
    "else:\n",
    "    code_artifact = sagemaker.lineage.artifact.Artifact.create(\n",
    "        artifact_name=\"TrainingScript\",\n",
    "        source_uri=code_s3_uri,\n",
    "        artifact_type=\"Code\",\n",
    "        sagemaker_session=sagemaker_session,\n",
    "    )\n",
    "    print(f\"Create artifact {code_artifact.artifact_arn}: SUCCESSFUL\")"
   ]
  },
  {
   "cell_type": "markdown",
   "metadata": {},
   "source": [
    "#### Treinando os Artefatos"
   ]
  },
  {
   "cell_type": "code",
   "execution_count": 16,
   "metadata": {},
   "outputs": [
    {
     "name": "stdout",
     "output_type": "stream",
     "text": [
      "Using existing artifact: arn:aws:sagemaker:us-east-1:173965381620:artifact/64feefeb4fa174b4c0a26d08648b7f74\n"
     ]
    }
   ],
   "source": [
    "training_data_s3_uri = training_job_2_info[\"InputDataConfig\"][0][\"DataSource\"][\"S3DataSource\"][\n",
    "    \"S3Uri\"\n",
    "]\n",
    "\n",
    "list_response = list(\n",
    "    sagemaker.lineage.artifact.Artifact.list(\n",
    "        source_uri=training_data_s3_uri, sagemaker_session=sagemaker_session\n",
    "    )\n",
    ")\n",
    "\n",
    "if list_response:\n",
    "    training_data_artifact = list_response[0]\n",
    "    print(f\"Using existing artifact: {training_data_artifact.artifact_arn}\")\n",
    "else:\n",
    "    training_data_artifact = sagemaker.lineage.artifact.Artifact.create(\n",
    "        artifact_name=\"TrainingData\",\n",
    "        source_uri=training_data_s3_uri,\n",
    "        artifact_type=\"Dataset\",\n",
    "        sagemaker_session=sagemaker_session,\n",
    "    )\n",
    "    print(f\"Create artifact {training_data_artifact.artifact_arn}: SUCCESSFUL\")"
   ]
  },
  {
   "cell_type": "markdown",
   "metadata": {},
   "source": [
    "#### Artefatos/Modelo"
   ]
  },
  {
   "cell_type": "code",
   "execution_count": 17,
   "metadata": {},
   "outputs": [
    {
     "name": "stdout",
     "output_type": "stream",
     "text": [
      "Using existing artifact: arn:aws:sagemaker:us-east-1:173965381620:artifact/7f2b40bba8fd5bc4017fc275db92ad56\n"
     ]
    }
   ],
   "source": [
    "trained_model_s3_uri = training_job_2_info[\"ModelArtifacts\"][\"S3ModelArtifacts\"]\n",
    "\n",
    "list_response = list(\n",
    "    sagemaker.lineage.artifact.Artifact.list(\n",
    "        source_uri=trained_model_s3_uri, sagemaker_session=sagemaker_session\n",
    "    )\n",
    ")\n",
    "\n",
    "if list_response:\n",
    "    model_artifact = list_response[0]\n",
    "    print(f\"Using existing artifact: {model_artifact.artifact_arn}\")\n",
    "else:\n",
    "    model_artifact = sagemaker.lineage.artifact.Artifact.create(\n",
    "        artifact_name=\"TrainedModel\",\n",
    "        source_uri=trained_model_s3_uri,\n",
    "        artifact_type=\"Model\",\n",
    "        sagemaker_session=sagemaker_session,\n",
    "    )\n",
    "    print(f\"Create artifact {model_artifact.artifact_arn}: SUCCESSFUL\")"
   ]
  },
  {
   "cell_type": "markdown",
   "metadata": {},
   "source": [
    "### Definir associações de artefatos"
   ]
  },
  {
   "cell_type": "code",
   "execution_count": 18,
   "metadata": {},
   "outputs": [],
   "source": [
    "trial_component = sagemaker_boto_client.describe_trial_component(\n",
    "    TrialComponentName=training_job_2_name + \"-aws-training-job\"\n",
    ")\n",
    "trial_component_arn = trial_component[\"TrialComponentArn\"]"
   ]
  },
  {
   "cell_type": "markdown",
   "metadata": {},
   "source": [
    "#### Entrada"
   ]
  },
  {
   "cell_type": "code",
   "execution_count": 19,
   "metadata": {},
   "outputs": [
    {
     "name": "stdout",
     "output_type": "stream",
     "text": [
      "Associate arn:aws:sagemaker:us-east-1:173965381620:experiment-trial-component/sagemaker-xgboost-2022-08-28-11-28-27-693-aws-training-job and arn:aws:sagemaker:us-east-1:173965381620:artifact/b83a3c5dba77e73b41cea6824332d503: SUCCEESFUL\n",
      "\n",
      "Association already exists between arn:aws:sagemaker:us-east-1:173965381620:experiment-trial-component/sagemaker-xgboost-2022-08-28-11-28-27-693-aws-training-job and arn:aws:sagemaker:us-east-1:173965381620:artifact/64feefeb4fa174b4c0a26d08648b7f74.\n",
      "\n"
     ]
    }
   ],
   "source": [
    "input_artifacts = [code_artifact, training_data_artifact]\n",
    "\n",
    "for a in input_artifacts:\n",
    "    try:\n",
    "        sagemaker.lineage.association.Association.create(\n",
    "            source_arn=a.artifact_arn,\n",
    "            destination_arn=trial_component_arn,\n",
    "            association_type=\"ContributedTo\",\n",
    "            sagemaker_session=sagemaker_session,\n",
    "        )\n",
    "        print(f\"Associate {trial_component_arn} and {a.artifact_arn}: SUCCEESFUL\\n\")\n",
    "    except:\n",
    "        print(f\"Association already exists between {trial_component_arn} and {a.artifact_arn}.\\n\")"
   ]
  },
  {
   "cell_type": "markdown",
   "metadata": {},
   "source": [
    "#### Saída"
   ]
  },
  {
   "cell_type": "code",
   "execution_count": 20,
   "metadata": {},
   "outputs": [
    {
     "name": "stdout",
     "output_type": "stream",
     "text": [
      "Association already exists between arn:aws:sagemaker:us-east-1:173965381620:experiment-trial-component/sagemaker-xgboost-2022-08-28-11-28-27-693-aws-training-job and arn:aws:sagemaker:us-east-1:173965381620:artifact/64feefeb4fa174b4c0a26d08648b7f74.\n",
      "\n"
     ]
    }
   ],
   "source": [
    "output_artifacts = [model_artifact]\n",
    "\n",
    "for artifact_arn in output_artifacts:\n",
    "    try:\n",
    "        sagemaker.lineage.association.Association.create(\n",
    "            source_arn=a.artifact_arn,\n",
    "            destination_arn=trial_component_arn,\n",
    "            association_type=\"Produced\",\n",
    "            sagemaker_session=sagemaker_session,\n",
    "        )\n",
    "        print(f\"Associate {trial_component_arn} and {a.artifact_arn}: SUCCEESFUL\\n\")\n",
    "    except:\n",
    "        print(f\"Association already exists between {trial_component_arn} and {a.artifact_arn}.\\n\")"
   ]
  },
  {
   "cell_type": "markdown",
   "metadata": {},
   "source": [
    "## Análise de viés e explicabilidade\n",
    "----\n",
    "\n",
    "O Amazon SageMaker Clariify fornece ferramentas para ajudar a explicar como os modelos de machine learning (ML) fazem previsões. Essas ferramentas podem ajudar os modeladores e desenvolvedores de ML e outras partes interessadas internas a entender as características do modelo como um todo antes da implantação e a depurar as previsões fornecidas pelo modelo após sua implantação. A transparência sobre como os modelos de ML chegam às suas previsões também é fundamental para consumidores e reguladores que precisam confiar nas previsões do modelo se quiserem aceitar as decisões baseadas nelas. O SageMaker Clarify usa uma abordagem de atribuição de recursos independente de modelo, que você pode usar para entender por que um modelo fez uma previsão após o treinamento e para fornecer explicações por instância durante a inferência. A implementação inclui uma implementação escalável e eficiente do SHAP ([consulte o artigo](https://papers.nips.cc/paper/2017/file/8a20a8621978632d76c43dfd28b67767-Paper.pdf)), com base no conceito de um valor Shapley do campo da teoria dos jogos cooperativos que atribui a cada característica um valor de importância para uma previsão particular."
   ]
  },
  {
   "cell_type": "markdown",
   "metadata": {},
   "source": [
    "### Criar Modelo a partir do Estimador"
   ]
  },
  {
   "cell_type": "code",
   "execution_count": 21,
   "metadata": {},
   "outputs": [
    {
     "name": "stdout",
     "output_type": "stream",
     "text": [
      "Stored 'model_2_name' (str)\n"
     ]
    }
   ],
   "source": [
    "model_matches = sagemaker_boto_client.list_models(NameContains=model_2_name)['Models']\n",
    "\n",
    "if not model_matches:\n",
    "    \n",
    "    model_2 = sagemaker_session.create_model_from_job(\n",
    "        name=model_2_name,\n",
    "        training_job_name=training_job_2_info['TrainingJobName'],\n",
    "        role=sagemaker_role,\n",
    "        image_uri=training_job_2_info['AlgorithmSpecification']['TrainingImage'])\n",
    "    %store model_2_name\n",
    "    \n",
    "else:\n",
    "    \n",
    "    print(f\"Model {model_2_name} already exists.\")"
   ]
  },
  {
   "cell_type": "markdown",
   "metadata": {},
   "source": [
    "<a id='bias-v1'></a>\n",
    "\n",
    "### Verifique o viés do conjunto de dados e o viés do modelo\n",
    "\n",
    "Com o SageMaker, podemos verificar o viés pré e pós-treinamento. As métricas de pré-treinamento mostram viés preexistente nesses dados, enquanto as métricas de pós-treinamento mostram viés nas previsões do modelo. Usando o SDK do SageMaker, podemos especificar em quais grupos queremos verificar o viés e quais métricas gostaríamos de mostrar.\n",
    "\n",
    "Para executar o trabalho completo do Clarify, você deve descomentar o código na célula abaixo. A execução do trabalho levará cerca de 15 minutos. Se você deseja economizar tempo, pode visualizar os resultados na próxima célula, após a qual carrega uma saída pré-gerada se nenhum trabalho de polarização foi executado."
   ]
  },
  {
   "cell_type": "code",
   "execution_count": 22,
   "metadata": {},
   "outputs": [],
   "source": [
    "clarify_processor = sagemaker.clarify.SageMakerClarifyProcessor(\n",
    "    role=sagemaker_role,\n",
    "    instance_count=1,\n",
    "    instance_type=\"ml.c4.xlarge\",\n",
    "    sagemaker_session=sagemaker_session,\n",
    ")\n",
    "\n",
    "bias_data_config = sagemaker.clarify.DataConfig(\n",
    "    s3_data_input_path=train_data_upsampled_s3_path,\n",
    "    s3_output_path=bias_report_2_output_path,\n",
    "    label=\"fraud\",\n",
    "    headers=train.columns.to_list(),\n",
    "    dataset_type=\"text/csv\",\n",
    ")\n",
    "\n",
    "model_config = sagemaker.clarify.ModelConfig(\n",
    "    model_name=model_2_name,\n",
    "    instance_type=train_instance_type,\n",
    "    instance_count=1,\n",
    "    accept_type=\"text/csv\",\n",
    ")\n",
    "\n",
    "predictions_config = sagemaker.clarify.ModelPredictedLabelConfig(probability_threshold=0.5)\n",
    "\n",
    "bias_config = sagemaker.clarify.BiasConfig(\n",
    "    label_values_or_threshold=[0],\n",
    "    facet_name=\"customer_gender_female\",\n",
    "    facet_values_or_threshold=[1],\n",
    ")\n",
    "\n",
    "# # un-comment the code below to run the whole job\n",
    "\n",
    "# if 'clarify_bias_job_2_name' not in locals():\n",
    "\n",
    "#     clarify_processor.run_bias(\n",
    "#         data_config=bias_data_config,\n",
    "#         bias_config=bias_config,\n",
    "#         model_config=model_config,\n",
    "#         model_predicted_label_config=predictions_config,\n",
    "#         pre_training_methods='all',\n",
    "#         post_training_methods='all')\n",
    "\n",
    "#     clarify_bias_job_2_name = clarify_processor.latest_job.name\n",
    "#     %store clarify_bias_job_2_name\n",
    "\n",
    "# else:\n",
    "#     print(f'Clarify job {clarify_bias_job_2_name} has already run successfully.')"
   ]
  },
  {
   "cell_type": "markdown",
   "metadata": {},
   "source": [
    "## Ver resultados do trabalho \n",
    "----\n",
    "\n",
    "A execução do Clarify em seu conjunto de dados ou modelo pode levar cerca de 15 minutos. Se você não tiver tempo para executar o trabalho, poderá visualizar os resultados pré-gerados incluídos nesta demonstração. Caso contrário, você pode executar o trabalho removendo o comentário do código na célula acima."
   ]
  },
  {
   "cell_type": "code",
   "execution_count": 23,
   "metadata": {},
   "outputs": [
    {
     "name": "stdout",
     "output_type": "stream",
     "text": [
      "Loading pre-generated analysis file...\n",
      "\n",
      "{\n",
      "    \"name\": \"CI\",\n",
      "    \"description\": \"Class Imbalance (CI)\",\n",
      "    \"value\": 0.398\n",
      "}\n",
      "{\n",
      "    \"name\": \"CI\",\n",
      "    \"description\": \"Class Imbalance (CI)\",\n",
      "    \"value\": 0.0\n",
      "}\n"
     ]
    }
   ],
   "source": [
    "if \"clarify_bias_job_2_name\" in locals():\n",
    "    s3_client.download_file(\n",
    "        Bucket=bucket,\n",
    "        Key=f\"{prefix}/clarify-output/bias-2/analysis.json\",\n",
    "        Filename=\"clarify_output/bias_2/analysis.json\",\n",
    "    )\n",
    "    print(f\"Downloaded analysis from previous Clarify job: {clarify_bias_job_2_name}\\n\")\n",
    "else:\n",
    "    print(f\"Loading pre-generated analysis file...\\n\")\n",
    "\n",
    "with open(\"clarify_output/bias_1/analysis.json\", \"r\") as f:\n",
    "    bias_analysis = json.load(f)\n",
    "\n",
    "results = bias_analysis[\"pre_training_bias_metrics\"][\"facets\"][\"customer_gender_female\"][0][\n",
    "    \"metrics\"\n",
    "][1]\n",
    "print(json.dumps(results, indent=4))\n",
    "\n",
    "with open(\"clarify_output/bias_2/analysis.json\", \"r\") as f:\n",
    "    bias_analysis = json.load(f)\n",
    "\n",
    "results = bias_analysis[\"pre_training_bias_metrics\"][\"facets\"][\"customer_gender_female\"][0][\n",
    "    \"metrics\"\n",
    "][1]\n",
    "print(json.dumps(results, indent=4))"
   ]
  },
  {
   "cell_type": "markdown",
   "metadata": {},
   "source": [
    "## Configurar e executar \n",
    "----\n",
    "\n",
    "Para executar o trabalho completo do Clarify, você deve descomentar o código na célula abaixo. A execução do trabalho levará cerca de 15 minutos. Se você deseja economizar tempo, pode visualizar os resultados na próxima célula, após a qual carrega uma saída pré-gerada se nenhuma tarefa de explicabilidade tiver sido executada."
   ]
  },
  {
   "cell_type": "code",
   "execution_count": 24,
   "metadata": {},
   "outputs": [],
   "source": [
    "model_config = sagemaker.clarify.ModelConfig(\n",
    "    model_name=model_2_name,\n",
    "    instance_type=train_instance_type,\n",
    "    instance_count=1,\n",
    "    accept_type=\"text/csv\",\n",
    ")\n",
    "\n",
    "shap_config = sagemaker.clarify.SHAPConfig(\n",
    "    baseline=[train.median().values[1:].tolist()], num_samples=100, agg_method=\"mean_abs\"\n",
    ")\n",
    "\n",
    "explainability_data_config = sagemaker.clarify.DataConfig(\n",
    "    s3_data_input_path=train_data_upsampled_s3_path,\n",
    "    s3_output_path=explainability_output_path,\n",
    "    label=\"fraud\",\n",
    "    headers=train.columns.to_list(),\n",
    "    dataset_type=\"text/csv\",\n",
    ")\n",
    "\n",
    "# un-comment the code below to run the whole job\n",
    "\n",
    "# if \"clarify_expl_job_name\" not in locals():\n",
    "\n",
    "#     clarify_processor.run_explainability(\n",
    "#         data_config=explainability_data_config,\n",
    "#         model_config=model_config,\n",
    "#         explainability_config=shap_config)\n",
    "\n",
    "#     clarify_expl_job_name = clarify_processor.latest_job.name\n",
    "#     %store clarify_expl_job_name\n",
    "\n",
    "# else:\n",
    "#     print(f'Clarify job {clarify_expl_job_name} has already run successfully.')"
   ]
  },
  {
   "cell_type": "markdown",
   "metadata": {},
   "source": [
    "### Resultados da explicabilidade (atalho)\n",
    "A execução do Clarify em seu conjunto de dados ou modelo pode levar cerca de 15 minutos. Se você não tiver tempo para executar o trabalho, poderá visualizar os resultados pré-gerados incluídos nesta demonstração. Caso contrário, você pode executar o trabalho removendo o comentário do código na célula acima."
   ]
  },
  {
   "cell_type": "code",
   "execution_count": 25,
   "metadata": {},
   "outputs": [
    {
     "name": "stdout",
     "output_type": "stream",
     "text": [
      "Loading pre-generated analysis file...\n",
      "\n"
     ]
    },
    {
     "data": {
      "image/png": "[encoded data removed]",
      "text/plain": [
       "<Figure size 432x288 with 1 Axes>"
      ]
     },
     "metadata": {
      "needs_background": "light"
     },
     "output_type": "display_data"
    }
   ],
   "source": [
    "if \"clarify_expl_job_name\" in locals():\n",
    "    s3_client.download_file(\n",
    "        Bucket=bucket,\n",
    "        Key=f\"{prefix}/clarify-output/explainability/analysis.json\",\n",
    "        Filename=\"clarify_output/explainability/analysis.json\",\n",
    "    )\n",
    "    print(f\"Downloaded analysis from previous Clarify job: {clarify_expl_job_name}\\n\")\n",
    "else:\n",
    "    print(f\"Loading pre-generated analysis file...\\n\")\n",
    "\n",
    "with open(\"clarify_output/explainability/analysis.json\", \"r\") as f:\n",
    "    analysis_result = json.load(f)\n",
    "\n",
    "shap_values = pd.DataFrame(analysis_result[\"explanations\"][\"kernel_shap\"][\"label0\"])\n",
    "importances = shap_values[\"global_shap_values\"].sort_values(ascending=False)\n",
    "fig, ax = plt.subplots()\n",
    "n = 5\n",
    "y_pos = np.arange(n)\n",
    "importance_scores = importances.values[:n]\n",
    "y_label = importances.index[:n]\n",
    "ax.barh(y_pos, importance_scores, align=\"center\")\n",
    "ax.set_yticks(y_pos)\n",
    "ax.set_yticklabels(y_label)\n",
    "ax.invert_yaxis()\n",
    "ax.set_xlabel(\"SHAP Value (impact on model output)\");"
   ]
  },
  {
   "cell_type": "markdown",
   "metadata": {},
   "source": [
    "Para ver o relatório do SageMaker Clarify gerado automaticamente, execute o código a seguir e use o link de saída para abrir o relatório."
   ]
  },
  {
   "cell_type": "code",
   "execution_count": 26,
   "metadata": {},
   "outputs": [
    {
     "data": {
      "text/plain": [
       "'Click link below to view the SageMaker Clarify report'"
      ]
     },
     "metadata": {},
     "output_type": "display_data"
    },
    {
     "data": {
      "text/html": [
       "<a href='clarify_output/report.pdf' target='_blank'>clarify_output/report.pdf</a><br>"
      ],
      "text/plain": [
       "/root/-amazon-sagemaker-fraude/clarify_output/report.pdf"
      ]
     },
     "metadata": {},
     "output_type": "display_data"
    }
   ],
   "source": [
    "from IPython.display import FileLink, FileLinks\n",
    "\n",
    "display(\n",
    "    \"Click link below to view the SageMaker Clarify report\", FileLink(\"clarify_output/report.pdf\")\n",
    ")"
   ]
  },
  {
   "cell_type": "markdown",
   "metadata": {},
   "source": [
    "### O que é SHAP?\n",
    "SHAP é o método usado para calcular explicações nesta solução.\n",
    "Ao contrário de outros métodos de atribuição de recursos, como recurso único\n",
    "permutação, SHAP tenta desembaraçar o efeito de um único recurso por\n",
    "olhando para todas as combinações possíveis de recursos.\n",
    "\n",
    "[SHAP](https://github.com/slundberg/shap) (Lundberg et al. 2017)\n",
    "para explicações do aditivo SHapley. 'Shapley' refere-se a uma teoria dos jogos\n",
    "conceito chamado [Shapley\n",
    "valores](https://en.wikipedia.org/wiki/Shapley_value) que é usado para\n",
    "criar as explicações. Um valor Shapley descreve o valor marginal\n",
    "contribuição de cada 'jogador' ao considerar todas as 'coalizões' possíveis.\n",
    "Usando isso em um contexto de aprendizado de máquina, um valor Shapley descreve o\n",
    "contribuição marginal de cada recurso ao considerar todos os conjuntos possíveis\n",
    "de características. 'Aditivo' refere-se ao fato de que esses valores Shapley podem\n",
    "ser somados para dar a previsão final do modelo.\n",
    "\n",
    "Como exemplo, podemos começar com um risco de inadimplência de crédito de linha de base de\n",
    "10%. Dado um conjunto de características, podemos calcular o valor de Shapley para cada\n",
    "característica. Somando todos os valores de Shapley, podemos obter um\n",
    "valor acumulado de +30%. Dado o mesmo conjunto de recursos, portanto,\n",
    "esperamos que nosso modelo retorne um risco de inadimplência de crédito de 40% (ou seja, 10% + 30%)."
   ]
  },
  {
   "cell_type": "markdown",
   "metadata": {},
   "source": [
    "#### Criar e fazer upload do segundo relatório de métricas do modelo"
   ]
  },
  {
   "cell_type": "code",
   "execution_count": 27,
   "metadata": {},
   "outputs": [],
   "source": [
    "model_metrics_report = {\"binary_classification_metrics\": {}}\n",
    "for metric in training_job_2_info[\"FinalMetricDataList\"]:\n",
    "    stat = {metric[\"MetricName\"]: {\"value\": metric[\"Value\"], \"standard_deviation\": \"NaN\"}}\n",
    "    model_metrics_report[\"binary_classification_metrics\"].update(stat)\n",
    "\n",
    "with open(\"training_metrics.json\", \"w\") as f:\n",
    "    json.dump(model_metrics_report, f)\n",
    "\n",
    "metrics_s3_key = (\n",
    "    f\"{prefix}/training_jobs/{training_job_2_info['TrainingJobName']}/training_metrics.json\"\n",
    ")\n",
    "s3_client.upload_file(Filename=\"training_metrics.json\", Bucket=bucket, Key=metrics_s3_key)"
   ]
  },
  {
   "cell_type": "markdown",
   "metadata": {},
   "source": [
    "#### Definir especificação de inferência"
   ]
  },
  {
   "cell_type": "code",
   "execution_count": 28,
   "metadata": {},
   "outputs": [],
   "source": [
    "mp_inference_spec = InferenceSpecification().get_inference_specification_dict(\n",
    "    ecr_image=training_job_2_info[\"AlgorithmSpecification\"][\"TrainingImage\"],\n",
    "    supports_gpu=False,\n",
    "    supported_content_types=[\"text/csv\"],\n",
    "    supported_mime_types=[\"text/csv\"],\n",
    ")\n",
    "\n",
    "mp_inference_spec[\"InferenceSpecification\"][\"Containers\"][0][\"ModelDataUrl\"] = training_job_2_info[\n",
    "    \"ModelArtifacts\"\n",
    "][\"S3ModelArtifacts\"]"
   ]
  },
  {
   "cell_type": "markdown",
   "metadata": {},
   "source": [
    "#### Definir métricas do modelo"
   ]
  },
  {
   "cell_type": "code",
   "execution_count": 29,
   "metadata": {},
   "outputs": [],
   "source": [
    "model_metrics = {\n",
    "    \"ModelQuality\": {\n",
    "        \"Statistics\": {\n",
    "            \"ContentType\": \"application/json\",\n",
    "            \"S3Uri\": f\"s3://{bucket}/{metrics_s3_key}\",\n",
    "        }\n",
    "    },\n",
    "    \"Bias\": {\n",
    "        \"Report\": {\n",
    "            \"ContentType\": \"application/json\",\n",
    "            \"S3Uri\": f\"{explainability_output_path}/analysis.json\",\n",
    "        }\n",
    "    },\n",
    "}"
   ]
  },
  {
   "cell_type": "markdown",
   "metadata": {},
   "source": [
    "#### Registre o segundo pacote de modelo no Grupo de Pacotes de Modelo"
   ]
  },
  {
   "cell_type": "code",
   "execution_count": 30,
   "metadata": {},
   "outputs": [],
   "source": [
    "mpg_name = prefix\n",
    "mp_input_dict = {\n",
    "    \"ModelPackageGroupName\": mpg_name,\n",
    "    \"ModelPackageDescription\": \"XGBoost classifier to detect insurance fraud with SMOTE.\",\n",
    "    \"ModelApprovalStatus\": \"PendingManualApproval\",\n",
    "    \"ModelMetrics\": model_metrics,\n",
    "}\n",
    "\n",
    "mp_input_dict.update(mp_inference_spec)\n",
    "mp2_response = sagemaker_boto_client.create_model_package(**mp_input_dict)\n",
    "mp2_arn = mp2_response[\"ModelPackageArn\"]"
   ]
  },
  {
   "cell_type": "markdown",
   "metadata": {},
   "source": [
    "#### Verifique o status da criação de modelo"
   ]
  },
  {
   "cell_type": "code",
   "execution_count": 31,
   "metadata": {},
   "outputs": [
    {
     "name": "stdout",
     "output_type": "stream",
     "text": [
      "model package status: Completed\n"
     ]
    }
   ],
   "source": [
    "mp_info = sagemaker_boto_client.describe_model_package(\n",
    "    ModelPackageName=mp2_response[\"ModelPackageArn\"]\n",
    ")\n",
    "mp_status = mp_info[\"ModelPackageStatus\"]\n",
    "\n",
    "while mp_status not in [\"Completed\", \"Failed\"]:\n",
    "    time.sleep(5)\n",
    "    mp_info = sagemaker_boto_client.describe_model_package(\n",
    "        ModelPackageName=mp2_response[\"ModelPackageArn\"]\n",
    "    )\n",
    "    mp_status = mp_info[\"ModelPackageStatus\"]\n",
    "    print(f\"model package status: {mp_status}\")\n",
    "print(f\"model package status: {mp_status}\")"
   ]
  },
  {
   "cell_type": "markdown",
   "metadata": {},
   "source": [
    "### Visualize os dois modelos no registro"
   ]
  },
  {
   "cell_type": "code",
   "execution_count": 32,
   "metadata": {},
   "outputs": [
    {
     "data": {
      "text/plain": [
       "[{'ModelPackageGroupName': 'fraud-detect-demo',\n",
       "  'ModelPackageVersion': 2,\n",
       "  'ModelPackageArn': 'arn:aws:sagemaker:us-east-1:173965381620:model-package/fraud-detect-demo/2',\n",
       "  'ModelPackageDescription': 'XGBoost classifier to detect insurance fraud with SMOTE.',\n",
       "  'CreationTime': datetime.datetime(2022, 8, 28, 11, 32, 46, 14000, tzinfo=tzlocal()),\n",
       "  'ModelPackageStatus': 'Completed',\n",
       "  'ModelApprovalStatus': 'PendingManualApproval'},\n",
       " {'ModelPackageGroupName': 'fraud-detect-demo',\n",
       "  'ModelPackageVersion': 1,\n",
       "  'ModelPackageArn': 'arn:aws:sagemaker:us-east-1:173965381620:model-package/fraud-detect-demo/1',\n",
       "  'ModelPackageDescription': 'XGBoost classifier to detect insurance fraud.',\n",
       "  'CreationTime': datetime.datetime(2022, 8, 28, 11, 27, 21, 592000, tzinfo=tzlocal()),\n",
       "  'ModelPackageStatus': 'Completed',\n",
       "  'ModelApprovalStatus': 'PendingManualApproval'}]"
      ]
     },
     "execution_count": 32,
     "metadata": {},
     "output_type": "execute_result"
    }
   ],
   "source": [
    "sagemaker_boto_client.list_model_packages(ModelPackageGroupName=mpg_name)[\"ModelPackageSummaryList\"]"
   ]
  },
  {
   "cell_type": "markdown",
   "metadata": {},
   "source": [
    "<a id ='implantar'> </a>\n",
    "\n",
    "## Arquitetura: Deploy e servir o modelo\n",
    "----\n",
    "\n",
    "Agora que treinamos um modelo, podemos implantá-lo e servi-lo. A imagem a seguir mostra a arquitetura para fazer isso.\n",
    "\n",
    "![train-assess-tune-register](./images/e2e-3-pipeline-v3b.png)"
   ]
  },
  {
   "cell_type": "code",
   "execution_count": 33,
   "metadata": {},
   "outputs": [],
   "source": [
    "# variables used for parameterizing the notebook run\n",
    "endpoint_name = f\"{model_2_name}-endpoint\"\n",
    "endpoint_instance_count = 1\n",
    "endpoint_instance_type = \"ml.m4.xlarge\"\n",
    "\n",
    "predictor_instance_count = 1\n",
    "predictor_instance_type = \"ml.c5.xlarge\"\n",
    "batch_transform_instance_count = 1\n",
    "batch_transform_instance_type = \"ml.c5.xlarge\""
   ]
  },
  {
   "cell_type": "markdown",
   "metadata": {},
   "source": [
    "## Implante um modelo aprovado e faça uma previsão\n",
    "\n",
    "----"
   ]
  },
  {
   "cell_type": "markdown",
   "metadata": {},
   "source": [
    "#### Aprovar o segundo modelo\n",
    "No ciclo de vida de MLOps da vida real, um pacote de modelo é aprovado após avaliação por cientistas de dados, especialistas no assunto e auditores."
   ]
  },
  {
   "cell_type": "code",
   "execution_count": 34,
   "metadata": {},
   "outputs": [],
   "source": [
    "second_model_package = sagemaker_boto_client.list_model_packages(ModelPackageGroupName=mpg_name)[\n",
    "    \"ModelPackageSummaryList\"\n",
    "][0]\n",
    "model_package_update = {\n",
    "    \"ModelPackageArn\": second_model_package[\"ModelPackageArn\"],\n",
    "    \"ModelApprovalStatus\": \"Approved\",\n",
    "}\n",
    "\n",
    "update_response = sagemaker_boto_client.update_model_package(**model_package_update)"
   ]
  },
  {
   "cell_type": "markdown",
   "metadata": {},
   "source": [
    "#### Crie uma configuração de endpoint e um endpoint\n",
    "Implante o ponto de extremidade. Isso pode levar cerca de 8 minutos."
   ]
  },
  {
   "cell_type": "code",
   "execution_count": 35,
   "metadata": {},
   "outputs": [],
   "source": [
    "primary_container = {\"ModelPackageName\": second_model_package[\"ModelPackageArn\"]}\n",
    "endpoint_config_name = f\"{model_2_name}-endpoint-config\"\n",
    "existing_configs = len(\n",
    "    sagemaker_boto_client.list_endpoint_configs(NameContains=endpoint_config_name, MaxResults=30)[\n",
    "        \"EndpointConfigs\"\n",
    "    ]\n",
    ")\n",
    "\n",
    "if existing_configs == 0:\n",
    "    create_ep_config_response = sagemaker_boto_client.create_endpoint_config(\n",
    "        EndpointConfigName=endpoint_config_name,\n",
    "        ProductionVariants=[\n",
    "            {\n",
    "                \"InstanceType\": endpoint_instance_type,\n",
    "                \"InitialVariantWeight\": 1,\n",
    "                \"InitialInstanceCount\": endpoint_instance_count,\n",
    "                \"ModelName\": model_2_name,\n",
    "                \"VariantName\": \"AllTraffic\",\n",
    "            }\n",
    "        ],\n",
    "    )"
   ]
  },
  {
   "cell_type": "code",
   "execution_count": 36,
   "metadata": {},
   "outputs": [
    {
     "name": "stdout",
     "output_type": "stream",
     "text": [
      "Endpoint status: Creating\n",
      "Endpoint status: Creating\n",
      "Endpoint status: Creating\n",
      "Endpoint status: Creating\n",
      "Endpoint status: Creating\n",
      "Endpoint status: InService\n"
     ]
    }
   ],
   "source": [
    "existing_endpoints = sagemaker_boto_client.list_endpoints(\n",
    "    NameContains=endpoint_name, MaxResults=30\n",
    ")[\"Endpoints\"]\n",
    "if not existing_endpoints:\n",
    "    create_endpoint_response = sagemaker_boto_client.create_endpoint(\n",
    "        EndpointName=endpoint_name, EndpointConfigName=endpoint_config_name\n",
    "    )\n",
    "\n",
    "endpoint_info = sagemaker_boto_client.describe_endpoint(EndpointName=endpoint_name)\n",
    "endpoint_status = endpoint_info[\"EndpointStatus\"]\n",
    "\n",
    "while endpoint_status == \"Creating\":\n",
    "    endpoint_info = sagemaker_boto_client.describe_endpoint(EndpointName=endpoint_name)\n",
    "    endpoint_status = endpoint_info[\"EndpointStatus\"]\n",
    "    print(\"Endpoint status:\", endpoint_status)\n",
    "    if endpoint_status == \"Creating\":\n",
    "        time.sleep(60)"
   ]
  },
  {
   "cell_type": "markdown",
   "metadata": {},
   "source": [
    "## Executar previsões em reivindicações"
   ]
  },
  {
   "cell_type": "markdown",
   "metadata": {},
   "source": [
    "<a id='predictor'> </a>\n",
    "\n",
    "### Crie um preditor"
   ]
  },
  {
   "cell_type": "code",
   "execution_count": 37,
   "metadata": {},
   "outputs": [],
   "source": [
    "predictor = sagemaker.predictor.Predictor(\n",
    "    endpoint_name=endpoint_name, sagemaker_session=sagemaker_session\n",
    ")"
   ]
  },
  {
   "cell_type": "markdown",
   "metadata": {},
   "source": [
    "### Faça uma análise"
   ]
  },
  {
   "cell_type": "code",
   "execution_count": 38,
   "metadata": {},
   "outputs": [],
   "source": [
    "dataset = pd.read_csv(\"data/dataset.csv\")\n",
    "train = dataset.sample(frac=0.8, random_state=0)\n",
    "test = dataset.drop(train.index)\n",
    "sample_policy_id = int(test.sample(1)[\"policy_id\"])"
   ]
  },
  {
   "cell_type": "code",
   "execution_count": 39,
   "metadata": {},
   "outputs": [
    {
     "name": "stdout",
     "output_type": "stream",
     "text": [
      "<class 'pandas.core.frame.DataFrame'>\n",
      "Int64Index: 1000 entries, 0 to 4997\n",
      "Data columns (total 48 columns):\n",
      " #   Column                           Non-Null Count  Dtype  \n",
      "---  ------                           --------------  -----  \n",
      " 0   Unnamed: 0                       1000 non-null   int64  \n",
      " 1   policy_id                        1000 non-null   int64  \n",
      " 2   collision_type_rear              1000 non-null   int64  \n",
      " 3   customer_age                     1000 non-null   int64  \n",
      " 4   vehicle_claim                    1000 non-null   float64\n",
      " 5   incident_severity                1000 non-null   int64  \n",
      " 6   authorities_contacted_ambulance  1000 non-null   int64  \n",
      " 7   policy_liability                 1000 non-null   int64  \n",
      " 8   total_claim_amount               1000 non-null   float64\n",
      " 9   auto_year                        1000 non-null   int64  \n",
      " 10  num_injuries                     1000 non-null   int64  \n",
      " 11  num_vehicles_involved            1000 non-null   int64  \n",
      " 12  driver_relationship_other        1000 non-null   int64  \n",
      " 13  incident_type_theft              1000 non-null   int64  \n",
      " 14  collision_type_front             1000 non-null   int64  \n",
      " 15  incident_type_breakin            1000 non-null   int64  \n",
      " 16  policy_annual_premium            1000 non-null   int64  \n",
      " 17  num_witnesses                    1000 non-null   int64  \n",
      " 18  policy_state_wa                  1000 non-null   int64  \n",
      " 19  driver_relationship_spouse       1000 non-null   int64  \n",
      " 20  policy_state_or                  1000 non-null   int64  \n",
      " 21  fraud                            1000 non-null   int64  \n",
      " 22  authorities_contacted_police     1000 non-null   int64  \n",
      " 23  incident_dow                     1000 non-null   int64  \n",
      " 24  collision_type_na                1000 non-null   int64  \n",
      " 25  driver_relationship_na           1000 non-null   int64  \n",
      " 26  driver_relationship_self         1000 non-null   int64  \n",
      " 27  num_insurers_past_5_years        1000 non-null   int64  \n",
      " 28  months_as_customer               1000 non-null   int64  \n",
      " 29  incident_type_collision          1000 non-null   int64  \n",
      " 30  customer_education               1000 non-null   int64  \n",
      " 31  collision_type_side              1000 non-null   int64  \n",
      " 32  incident_hour                    1000 non-null   int64  \n",
      " 33  incident_month                   1000 non-null   int64  \n",
      " 34  num_claims_past_year             1000 non-null   int64  \n",
      " 35  policy_state_ca                  1000 non-null   int64  \n",
      " 36  driver_relationship_child        1000 non-null   int64  \n",
      " 37  customer_gender_female           1000 non-null   int64  \n",
      " 38  incident_day                     1000 non-null   int64  \n",
      " 39  injury_claim                     1000 non-null   float64\n",
      " 40  policy_deductable                1000 non-null   int64  \n",
      " 41  authorities_contacted_fire       1000 non-null   int64  \n",
      " 42  police_report_available          1000 non-null   int64  \n",
      " 43  customer_gender_male             1000 non-null   int64  \n",
      " 44  policy_state_az                  1000 non-null   int64  \n",
      " 45  policy_state_nv                  1000 non-null   int64  \n",
      " 46  authorities_contacted_none       1000 non-null   int64  \n",
      " 47  policy_state_id                  1000 non-null   int64  \n",
      "dtypes: float64(3), int64(45)\n",
      "memory usage: 382.8 KB\n"
     ]
    }
   ],
   "source": [
    "test.info()"
   ]
  },
  {
   "cell_type": "code",
   "execution_count": 40,
   "metadata": {},
   "outputs": [
    {
     "data": {
      "text/plain": [
       "['fraud',\n",
       " 'collision_type_rear',\n",
       " 'customer_age',\n",
       " 'vehicle_claim',\n",
       " 'incident_severity',\n",
       " 'authorities_contacted_ambulance',\n",
       " 'policy_liability',\n",
       " 'total_claim_amount',\n",
       " 'auto_year',\n",
       " 'num_injuries',\n",
       " 'num_vehicles_involved',\n",
       " 'driver_relationship_other',\n",
       " 'incident_type_theft',\n",
       " 'collision_type_front',\n",
       " 'incident_type_breakin',\n",
       " 'policy_annual_premium',\n",
       " 'num_witnesses',\n",
       " 'policy_state_wa',\n",
       " 'driver_relationship_spouse',\n",
       " 'policy_state_or',\n",
       " 'authorities_contacted_police',\n",
       " 'incident_dow',\n",
       " 'collision_type_na',\n",
       " 'driver_relationship_na',\n",
       " 'driver_relationship_self',\n",
       " 'num_insurers_past_5_years',\n",
       " 'months_as_customer',\n",
       " 'incident_type_collision',\n",
       " 'customer_education',\n",
       " 'collision_type_side',\n",
       " 'incident_hour',\n",
       " 'incident_month',\n",
       " 'num_claims_past_year',\n",
       " 'policy_state_ca',\n",
       " 'driver_relationship_child',\n",
       " 'customer_gender_female',\n",
       " 'incident_day',\n",
       " 'injury_claim',\n",
       " 'policy_deductable',\n",
       " 'authorities_contacted_fire',\n",
       " 'police_report_available',\n",
       " 'customer_gender_male',\n",
       " 'policy_state_az',\n",
       " 'policy_state_nv',\n",
       " 'authorities_contacted_none',\n",
       " 'policy_state_id']"
      ]
     },
     "execution_count": 40,
     "metadata": {},
     "output_type": "execute_result"
    }
   ],
   "source": [
    "dataset = pd.read_csv(\"./data/claims_customer.csv\")\n",
    "col_order = [\"fraud\"] + list(dataset.drop([\"fraud\", \"Unnamed: 0\", \"policy_id\"], axis=1).columns)\n",
    "col_order"
   ]
  },
  {
   "cell_type": "code",
   "execution_count": 41,
   "metadata": {},
   "outputs": [
    {
     "data": {
      "text/plain": [
       "['fraud',\n",
       " 'collision_type_rear',\n",
       " 'customer_age',\n",
       " 'vehicle_claim',\n",
       " 'incident_severity',\n",
       " 'authorities_contacted_ambulance',\n",
       " 'policy_liability',\n",
       " 'total_claim_amount',\n",
       " 'auto_year',\n",
       " 'num_injuries',\n",
       " 'num_vehicles_involved',\n",
       " 'driver_relationship_other',\n",
       " 'incident_type_theft',\n",
       " 'collision_type_front',\n",
       " 'incident_type_breakin',\n",
       " 'policy_annual_premium',\n",
       " 'num_witnesses',\n",
       " 'policy_state_wa',\n",
       " 'driver_relationship_spouse',\n",
       " 'policy_state_or',\n",
       " 'authorities_contacted_police',\n",
       " 'incident_dow',\n",
       " 'collision_type_na',\n",
       " 'driver_relationship_na',\n",
       " 'driver_relationship_self',\n",
       " 'num_insurers_past_5_years',\n",
       " 'months_as_customer',\n",
       " 'incident_type_collision',\n",
       " 'customer_education',\n",
       " 'collision_type_side',\n",
       " 'incident_hour',\n",
       " 'incident_month',\n",
       " 'num_claims_past_year',\n",
       " 'policy_state_ca',\n",
       " 'driver_relationship_child',\n",
       " 'customer_gender_female',\n",
       " 'incident_day',\n",
       " 'injury_claim',\n",
       " 'policy_deductable',\n",
       " 'authorities_contacted_fire',\n",
       " 'police_report_available',\n",
       " 'customer_gender_male',\n",
       " 'policy_state_az',\n",
       " 'policy_state_nv',\n",
       " 'authorities_contacted_none',\n",
       " 'policy_state_id']"
      ]
     },
     "execution_count": 41,
     "metadata": {},
     "output_type": "execute_result"
    }
   ],
   "source": [
    "col_order"
   ]
  },
  {
   "cell_type": "markdown",
   "metadata": {},
   "source": [
    "### Extraia os dados do cliente e formate o Endpoint\n",
    "Quando um cliente envia uma solicitação de seguro on-line para aprovação instantânea, a seguradora precisará obter dados específicos do cliente. Você pode fazer isso usando os dados do cliente que armazenamos em arquivos CSV ou uma loja de recursos online para adicionar aos dados da reclamação. Os dados extraídos servirão como entrada para uma previsão do modelo.\n",
    "\n",
    "Em seguida, o ponto de dados deve corresponder ao formato de entrada exato conforme o modelo foi treinado - com todos os recursos na ordem correta. Neste exemplo, a variável `col_order` foi salva quando você criou os conjuntos de dados de treinamento e teste anteriormente no guia."
   ]
  },
  {
   "cell_type": "code",
   "execution_count": 42,
   "metadata": {},
   "outputs": [
    {
     "data": {
      "text/plain": [
       "'1.0,65.0,10500.0,0.0,0.0,0.0,10500.0,2017.0,0.0,2.0,0.0,0.0,0.0,0.0,3000.0,2.0,0.0,0.0,0.0,0.0,1.0,0.0,0.0,1.0,2.0,2.0,1.0,4.0,0.0,21.0,6.0,0.0,1.0,0.0,0.0,4.0,0.0,750.0,0.0,0.0,1.0,0.0,0.0,1.0,0.0'"
      ]
     },
     "execution_count": 42,
     "metadata": {},
     "output_type": "execute_result"
    }
   ],
   "source": [
    "sample_policy_id = int(test.sample(1)[\"policy_id\"])\n",
    "pull_from_feature_store = False\n",
    "\n",
    "if pull_from_feature_store:\n",
    "    customers_response = featurestore_runtime.get_record(\n",
    "        FeatureGroupName=customers_fg_name, RecordIdentifierValueAsString=str(sample_policy_id)\n",
    "    )\n",
    "\n",
    "    customer_record = customers_response[\"Record\"]\n",
    "    customer_df = pd.DataFrame(customer_record).set_index(\"FeatureName\")\n",
    "\n",
    "    claims_response = featurestore_runtime.get_record(\n",
    "        FeatureGroupName=claims_fg_name, RecordIdentifierValueAsString=str(sample_policy_id)\n",
    "    )\n",
    "\n",
    "    claims_record = claims_response[\"Record\"]\n",
    "    claims_df = pd.DataFrame(claims_record).set_index(\"FeatureName\")\n",
    "\n",
    "    blended_df = pd.concat([claims_df, customer_df]).loc[col_order].drop(\"fraud\")\n",
    "else:\n",
    "    customer_claim_df = dataset[dataset[\"policy_id\"] == sample_policy_id].sample(1)\n",
    "    blended_df = customer_claim_df.loc[:, col_order].drop(\"fraud\", axis=1).T.reset_index()\n",
    "    blended_df.columns = [\"FeatureName\", \"ValueAsString\"]\n",
    "\n",
    "data_input = \",\".join([str(x) for x in blended_df[\"ValueAsString\"]])\n",
    "data_input"
   ]
  },
  {
   "cell_type": "markdown",
   "metadata": {},
   "source": [
    "### Fazer previsão"
   ]
  },
  {
   "cell_type": "code",
   "execution_count": 43,
   "metadata": {},
   "outputs": [
    {
     "name": "stdout",
     "output_type": "stream",
     "text": [
      "Probablitity the claim from policy 1697 is fraudulent: 0.1563970446586609\n"
     ]
    }
   ],
   "source": [
    "results = predictor.predict(data_input, initial_args={\"ContentType\": \"text/csv\"})\n",
    "prediction = json.loads(results)\n",
    "print(f\"Probablitity the claim from policy {int(sample_policy_id)} is fraudulent:\", prediction)"
   ]
  },
  {
   "cell_type": "code",
   "execution_count": null,
   "metadata": {},
   "outputs": [],
   "source": []
  }
 ],
 "metadata": {
  "instance_type": "ml.t3.medium",
  "kernelspec": {
   "display_name": "Python 3 (Data Science)",
   "language": "python",
   "name": "python3__SAGEMAKER_INTERNAL__arn:aws:sagemaker:us-east-1:081325390199:image/datascience-1.0"
  },
  "language_info": {
   "codemirror_mode": {
    "name": "ipython",
    "version": 3
   },
   "file_extension": ".py",
   "mimetype": "text/x-python",
   "name": "python",
   "nbconvert_exporter": "python",
   "pygments_lexer": "ipython3",
   "version": "3.7.10"
  }
 },
 "nbformat": 4,
 "nbformat_minor": 4
}
